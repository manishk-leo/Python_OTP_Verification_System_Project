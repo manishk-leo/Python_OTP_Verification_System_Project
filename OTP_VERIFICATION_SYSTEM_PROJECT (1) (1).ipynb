{
 "cells": [
  {
   "cell_type": "markdown",
   "id": "c56019ea",
   "metadata": {},
   "source": [
    "# Project Title: OTP Verification System\n",
    "\n",
    "Problem Statement:\n",
    "\n",
    "You are tasked with developing an OTP (One-Time Password) verification system in Python. The system should generate a 6-digit OTP and send it to the user's email address for verification. Upon receiving the OTP, the user should enter it into the system for validation. If the entered OTP matches the generated OTP, access should be granted; otherwise, access should be denied.\n",
    "\n",
    "Project Requirements:\n",
    "\n",
    "Implement a function to generate a 6-digit OTP randomly.\n",
    "\n",
    "Develop a function to simulate sending the OTP to the user's email address.\n",
    "\n",
    "Create a function to prompt the user to enter the OTP received in their email.\n",
    "\n",
    "Implement a function to verify if the entered OTP matches the generated OTP.\n",
    "\n",
    "Ensure proper error handling and user-friendly prompts throughout the system.\n",
    "\n",
    "Allow the user to retry OTP entry in case of incorrect input.\n",
    "\n",
    "Project Deliverables:\n",
    "\n",
    "Python script containing the implementation of the OTP verification system.\n",
    "\n",
    "Documentation explaining the functionality of each function, how to run the program, and any dependencies required.\n",
    "\n",
    "Test cases to ensure the system functions correctly under various scenarios, including correct and incorrect OTP entries.\n",
    "\n",
    "Optionally, you can create a simple GUI interface for the OTP verification system to enhance user experience."
   ]
  },
  {
   "cell_type": "code",
   "execution_count": 7,
   "id": "a5550a00",
   "metadata": {},
   "outputs": [
    {
     "name": "stdout",
     "output_type": "stream",
     "text": [
      "Collecting secure-smtplib\n",
      "  Downloading secure_smtplib-0.1.1-py2.py3-none-any.whl.metadata (511 bytes)\n",
      "Downloading secure_smtplib-0.1.1-py2.py3-none-any.whl (3.4 kB)\n",
      "Installing collected packages: secure-smtplib\n",
      "Successfully installed secure-smtplib-0.1.1\n",
      "Note: you may need to restart the kernel to use updated packages.\n"
     ]
    }
   ],
   "source": [
    "pip install secure-smtplib\n"
   ]
  },
  {
   "cell_type": "code",
   "execution_count": 7,
   "id": "cc884c31",
   "metadata": {},
   "outputs": [
    {
     "name": "stdout",
     "output_type": "stream",
     "text": [
      "Enter your email address: odinschoolmanish@gmail.com\n",
      "OTP has been sent to your email.\n",
      "Enter otp321386\n",
      "Access granted Successfully\n"
     ]
    }
   ],
   "source": [
    "import smtplib\n",
    "import random\n",
    "\n",
    "\n",
    "# Function to generate a 6-digit OTP\n",
    "def generate_otp():\n",
    "    return ''.join(random.choices('0123456789', k=6))\n",
    "\n",
    "# Function to send OTP to user's email\n",
    "def send_otp(email, otp):\n",
    "    sender_email = 'odinschoolmanish@gmail.com'\n",
    "    password = 'afnx pkst yhtm nlef'\n",
    "    \n",
    "    subject = 'OTP Verification'\n",
    "    body = f'Your OTP for verification is: {otp}'\n",
    "\n",
    "    message = f'Subject: {subject}\\n\\n{body}'\n",
    "\n",
    "    try:\n",
    "        server= smtplib.SMTP('smtp.gmail.com', 587) \n",
    "        #used port 587 — this is the port for encrypted email transmissions using SMTP Secure (SMTPS)\n",
    "        server.starttls()\n",
    "        server.login(sender_email, password)\n",
    "        server.sendmail(sender_email, email, message)\n",
    "        server.quit()\n",
    "        print(\"OTP has been sent to your email.\")\n",
    "    except Exception as e:\n",
    "        print(\"Failed to send OTP. Error:\", e)\n",
    "\n",
    "\n",
    "# Function to verify OTP\n",
    "def verify_otp(entered_otp, generated_otp):\n",
    "    return entered_otp == generated_otp\n",
    "\n",
    "# Main function\n",
    "def main():\n",
    "    email = input(\"Enter your email address: \")\n",
    "    \n",
    "    otp = generate_otp()\n",
    "    send_otp(email, otp)\n",
    "    entered_otp= input('Enter otp')\n",
    "\n",
    "    if verify_otp(otp, entered_otp):\n",
    "      print('Access granted Successfully')\n",
    "    else:\n",
    "      print('Access Denied')\n",
    "    \n",
    "\n",
    "if __name__ == \"__main__\":\n",
    "    main()\n"
   ]
  },
  {
   "cell_type": "code",
   "execution_count": null,
   "id": "d78da103",
   "metadata": {},
   "outputs": [],
   "source": [
    "\n"
   ]
  },
  {
   "cell_type": "code",
   "execution_count": null,
   "id": "2c61abaa",
   "metadata": {},
   "outputs": [],
   "source": []
  },
  {
   "cell_type": "code",
   "execution_count": null,
   "id": "0ba2c82d",
   "metadata": {},
   "outputs": [],
   "source": []
  },
  {
   "cell_type": "code",
   "execution_count": null,
   "id": "9f3a2bbb",
   "metadata": {},
   "outputs": [],
   "source": []
  },
  {
   "cell_type": "code",
   "execution_count": null,
   "id": "7023b201",
   "metadata": {},
   "outputs": [],
   "source": []
  },
  {
   "cell_type": "code",
   "execution_count": null,
   "id": "ac8013b2",
   "metadata": {},
   "outputs": [],
   "source": []
  },
  {
   "cell_type": "code",
   "execution_count": null,
   "id": "7d890dbe",
   "metadata": {},
   "outputs": [],
   "source": []
  },
  {
   "cell_type": "code",
   "execution_count": null,
   "id": "a2a2677e",
   "metadata": {},
   "outputs": [],
   "source": []
  },
  {
   "cell_type": "code",
   "execution_count": null,
   "id": "f8a8cbda",
   "metadata": {},
   "outputs": [],
   "source": []
  },
  {
   "cell_type": "code",
   "execution_count": null,
   "id": "b7fd55e5",
   "metadata": {},
   "outputs": [],
   "source": []
  },
  {
   "cell_type": "code",
   "execution_count": null,
   "id": "ce009706",
   "metadata": {},
   "outputs": [],
   "source": []
  },
  {
   "cell_type": "code",
   "execution_count": null,
   "id": "85cc72e5",
   "metadata": {},
   "outputs": [],
   "source": []
  },
  {
   "cell_type": "code",
   "execution_count": null,
   "id": "0e5b8598",
   "metadata": {},
   "outputs": [],
   "source": []
  },
  {
   "cell_type": "code",
   "execution_count": null,
   "id": "071aa54d",
   "metadata": {},
   "outputs": [],
   "source": []
  },
  {
   "cell_type": "code",
   "execution_count": null,
   "id": "99303232",
   "metadata": {},
   "outputs": [],
   "source": []
  }
 ],
 "metadata": {
  "kernelspec": {
   "display_name": "Python 3 (ipykernel)",
   "language": "python",
   "name": "python3"
  },
  "language_info": {
   "codemirror_mode": {
    "name": "ipython",
    "version": 3
   },
   "file_extension": ".py",
   "mimetype": "text/x-python",
   "name": "python",
   "nbconvert_exporter": "python",
   "pygments_lexer": "ipython3",
   "version": "3.11.0"
  }
 },
 "nbformat": 4,
 "nbformat_minor": 5
}
